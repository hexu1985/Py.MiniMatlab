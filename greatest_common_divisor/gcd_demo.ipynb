{
 "cells": [
  {
   "cell_type": "code",
   "execution_count": 1,
   "id": "528e177f",
   "metadata": {},
   "outputs": [
    {
     "name": "stdout",
     "output_type": "stream",
     "text": [
      "The gcd of 60 and 48 is:12\n"
     ]
    }
   ],
   "source": [
    "# Python code to demonstrate the working of gcd()\n",
    "\n",
    "# importing \"math\" for mathematical operations\n",
    "\n",
    "import math\n",
    "\n",
    "# prints 12\n",
    "\n",
    "print (\"The gcd of 60 and 48 is:\", end =\"\")\n",
    "\n",
    "print (math.gcd(60, 48))"
   ]
  },
  {
   "cell_type": "code",
   "execution_count": 3,
   "id": "7e855d6d",
   "metadata": {},
   "outputs": [
    {
     "name": "stdout",
     "output_type": "stream",
     "text": [
      "math.gcd(44, 12): 4\n",
      "math.gcd(69, 23): 23\n"
     ]
    }
   ],
   "source": [
    "# Python code to demonstrate the working of gcd()\n",
    "\n",
    "# importing \"math\" for mathematical operations\n",
    "\n",
    "import math\n",
    "\n",
    "# prints gcd of x, y\n",
    "\n",
    "print (\"math.gcd(44, 12):\", math.gcd(44, 12))\n",
    "\n",
    "print (\"math.gcd(65, 25):\", math.gcd(65, 25))"
   ]
  },
  {
   "cell_type": "code",
   "execution_count": null,
   "id": "f48c2830",
   "metadata": {},
   "outputs": [],
   "source": []
  }
 ],
 "metadata": {
  "kernelspec": {
   "display_name": "Python 3 (ipykernel)",
   "language": "python",
   "name": "python3"
  },
  "language_info": {
   "codemirror_mode": {
    "name": "ipython",
    "version": 3
   },
   "file_extension": ".py",
   "mimetype": "text/x-python",
   "name": "python",
   "nbconvert_exporter": "python",
   "pygments_lexer": "ipython3",
   "version": "3.9.7"
  }
 },
 "nbformat": 4,
 "nbformat_minor": 5
}
